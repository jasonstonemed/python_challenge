{
 "cells": [
  {
   "cell_type": "code",
   "execution_count": 14,
   "metadata": {},
   "outputs": [
    {
     "name": "stdout",
     "output_type": "stream",
     "text": [
      "total months: 86\n"
     ]
    }
   ],
   "source": [
    "#Total number of months in data set\n",
    "import csv\n",
    "import os\n",
    "\n",
    "path = os.path.join('budget_data.csv')\n",
    "\n",
    "#initialize\n",
    "total_months = 0\n",
    "\n",
    "with open(path, 'r') as file:\n",
    "    reader = csv.reader(file)\n",
    "    next(reader)\n",
    "\n",
    "    for row in reader:\n",
    "        total_months += 1\n",
    "\n",
    "print(f'total months: {total_months}')"
   ]
  },
  {
   "cell_type": "code",
   "execution_count": 16,
   "metadata": {},
   "outputs": [
    {
     "name": "stdout",
     "output_type": "stream",
     "text": [
      "profit/losses: 382539 over 86 mos\n"
     ]
    }
   ],
   "source": [
    "#The net total amount of \"Profit/Losses\" over the entire period\n",
    "import os\n",
    "import csv\n",
    "\n",
    "with open(path, 'r') as file:\n",
    "    reader = csv.DictReader(file)\n",
    "    # next(reader)\n",
    "\n",
    "    #initialize\n",
    "    profit = 0\n",
    "\n",
    "    for row in reader:\n",
    "        profit =+ int(row['Profit/Losses'])\n",
    "\n",
    "print(f'profit/losses: {profit} over {total_months} mos')"
   ]
  },
  {
   "cell_type": "code",
   "execution_count": 3,
   "metadata": {},
   "outputs": [
    {
     "name": "stdout",
     "output_type": "stream",
     "text": [
      "avg change over the time: -836333.4117647059\n"
     ]
    }
   ],
   "source": [
    "#Changes in \"Profit/Losses\" over the period, and the average of changes\n",
    "import os\n",
    "import csv\n",
    "\n",
    "with open(path, 'r') as file:\n",
    "    reader = csv.DictReader(file)\n",
    "    first_row = next(reader)\n",
    "\n",
    "    #initialize\n",
    "    previous_price = int(first_row['Profit/Losses'])\n",
    "    num_changes = 0\n",
    "    price_change = 0\n",
    "    total_change = 0\n",
    "    current_price = 0\n",
    "    avg_change = 0 \n",
    "\n",
    "    for row in reader:\n",
    "        current_price = int(row['Profit/Losses'])\n",
    "\n",
    "        #counter for avg divisor\n",
    "        num_changes += 1\n",
    "        #price change\n",
    "        price_change = current_price - previous_price\n",
    "        total_change += price_change\n",
    "        avg_change = total_change / total_months\n",
    "\n",
    "print(f'avg change over the time: {avg_change}')\n"
   ]
  },
  {
   "cell_type": "code",
   "execution_count": 1,
   "metadata": {},
   "outputs": [
    {
     "ename": "NameError",
     "evalue": "name 'path' is not defined",
     "output_type": "error",
     "traceback": [
      "\u001b[1;31m---------------------------------------------------------------------------\u001b[0m",
      "\u001b[1;31mNameError\u001b[0m                                 Traceback (most recent call last)",
      "\u001b[1;32mc:\\Users\\15127\\Desktop\\BOOT_CAMP\\CHALLENGES\\python_challenge\\PyBank\\Resources\\Untitled-1.ipynb Cell 4\u001b[0m line \u001b[0;36m5\n\u001b[0;32m      <a href='vscode-notebook-cell:/c%3A/Users/15127/Desktop/BOOT_CAMP/CHALLENGES/python_challenge/PyBank/Resources/Untitled-1.ipynb#W3sZmlsZQ%3D%3D?line=1'>2</a>\u001b[0m \u001b[39mimport\u001b[39;00m \u001b[39mos\u001b[39;00m\n\u001b[0;32m      <a href='vscode-notebook-cell:/c%3A/Users/15127/Desktop/BOOT_CAMP/CHALLENGES/python_challenge/PyBank/Resources/Untitled-1.ipynb#W3sZmlsZQ%3D%3D?line=2'>3</a>\u001b[0m \u001b[39mimport\u001b[39;00m \u001b[39mcsv\u001b[39;00m\n\u001b[1;32m----> <a href='vscode-notebook-cell:/c%3A/Users/15127/Desktop/BOOT_CAMP/CHALLENGES/python_challenge/PyBank/Resources/Untitled-1.ipynb#W3sZmlsZQ%3D%3D?line=4'>5</a>\u001b[0m \u001b[39mwith\u001b[39;00m \u001b[39mopen\u001b[39m(path, \u001b[39m'\u001b[39m\u001b[39mr\u001b[39m\u001b[39m'\u001b[39m) \u001b[39mas\u001b[39;00m file:\n\u001b[0;32m      <a href='vscode-notebook-cell:/c%3A/Users/15127/Desktop/BOOT_CAMP/CHALLENGES/python_challenge/PyBank/Resources/Untitled-1.ipynb#W3sZmlsZQ%3D%3D?line=5'>6</a>\u001b[0m     reader \u001b[39m=\u001b[39m csv\u001b[39m.\u001b[39mreader(file)\n\u001b[0;32m      <a href='vscode-notebook-cell:/c%3A/Users/15127/Desktop/BOOT_CAMP/CHALLENGES/python_challenge/PyBank/Resources/Untitled-1.ipynb#W3sZmlsZQ%3D%3D?line=6'>7</a>\u001b[0m     \u001b[39mnext\u001b[39m(reader) \n",
      "\u001b[1;31mNameError\u001b[0m: name 'path' is not defined"
     ]
    }
   ],
   "source": [
    "#The greatest increase in profits (date and amount) over the entire period\n",
    "import os\n",
    "import csv\n",
    "\n",
    "with open(path, 'r') as file:\n",
    "    reader = csv.reader(file)\n",
    "    next(reader) \n",
    "\n",
    "    #initialize\n",
    "    total_months = 0\n",
    "    previous_profit = 0\n",
    "    total_profit = 0\n",
    "    greatest_increase = 0\n",
    "    greatest_inc_month = \"\"\n",
    "    greatest_decrease = 0\n",
    "    greatest_decrease_month = \"\"\n",
    "\n",
    "    for row in reader:\n",
    "        # Set baseline values-- Extract the month and profit/loss from the current row\n",
    "        profit = int(row[1])\n",
    "        month = row[0]\n",
    "        \n",
    "        # Set counters -- Update the total number of months and total profit\n",
    "        total_months += 1\n",
    "        total_profit += profit\n",
    "\n",
    "        # Calculate the change in profit from the previous month\n",
    "        profit_change = profit - previous_profit\n",
    "\n",
    "        # Check if the current profit decrease is the greatest so far\n",
    "        if total_months > 1:  #THIS CHECKS THE CURRENT MONTH\n",
    "            profit_change = profit - previous_profit\n",
    "\n",
    "            if profit_change > greatest_increase:\n",
    "                greatest_increase = profit_change #retuns amt\n",
    "                greatest_increase_month = month #returns month\n",
    "                # print(greatest_increase_month)\n",
    "\n",
    "    #     # Update the previous profit for the next iteration\n",
    "    #     previous_profit = profit\n",
    "\n",
    "    print(f'Greatest Profit increase was {greatest_increase} in {greatest_inc_month}')\n",
    "        "
   ]
  },
  {
   "cell_type": "code",
   "execution_count": 8,
   "metadata": {},
   "outputs": [
    {
     "name": "stdout",
     "output_type": "stream",
     "text": [
      "Date             object\n",
      "Profit/Losses     int64\n",
      "dtype: object\n"
     ]
    }
   ],
   "source": [
    "import pandas as pd\n",
    "\n",
    "# Read the CSV file into a DataFrame\n",
    "df = pd.read_csv(path)\n",
    "\n",
    "# Print the data types of each column\n",
    "print(df.dtypes)\n"
   ]
  }
 ],
 "metadata": {
  "kernelspec": {
   "display_name": "base",
   "language": "python",
   "name": "python3"
  },
  "language_info": {
   "codemirror_mode": {
    "name": "ipython",
    "version": 3
   },
   "file_extension": ".py",
   "mimetype": "text/x-python",
   "name": "python",
   "nbconvert_exporter": "python",
   "pygments_lexer": "ipython3",
   "version": "3.9.13"
  }
 },
 "nbformat": 4,
 "nbformat_minor": 2
}
